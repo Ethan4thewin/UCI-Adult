{
 "cells": [
  {
   "cell_type": "code",
   "execution_count": 1,
   "metadata": {},
   "outputs": [],
   "source": [
    "import pandas as pd\n",
    "import numpy as np\n",
    "import matplotlib.pyplot as plt\n",
    "from sklearn.model_selection import train_test_split\n",
    "from sklearn.preprocessing import StandardScaler\n",
    "from sklearn.tree import DecisionTreeClassifier\n",
    "from sklearn.ensemble import RandomForestClassifier\n",
    "from sklearn.metrics import accuracy_score, confusion_matrix, classification_report\n",
    "from sklearn.dummy import DummyClassifier\n",
    "from sklearn.model_selection import GridSearchCV"
   ]
  },
  {
   "cell_type": "code",
   "execution_count": 2,
   "metadata": {},
   "outputs": [],
   "source": [
    "c = [\"age\", \"workclass\", \"fnlwgt\", \"education\", \"education_num\", \"marital_status\", \"occupation\", \"relationship\", \"race\", \"sex\",\n",
    "     \"capital_gain\", \"capital_loss\", \"hours_per_week\", \"native_country\", \"label\"]\n",
    "data1 = pd.read_csv(\"adult.test\", names=c, index_col=False, sep=\", \", engine=\"python\", skiprows=1)\n",
    "data2 = pd.read_csv(\"adult.data\", names=c, index_col=False, sep=\", \", engine=\"python\")\n",
    "# engine python to avoid warning\n",
    "\n",
    "data1[\"label\"] = data1[\"label\"].replace('<=50K.', '<=50K')\n",
    "data1[\"label\"] = data1[\"label\"].replace('>50K.', '>50K')\n",
    "\n",
    "data = pd.concat([data1, data2], ignore_index=True)\n",
    "data.drop_duplicates(inplace=True)\n",
    "data = data.drop('education', axis=1)"
   ]
  },
  {
   "cell_type": "code",
   "execution_count": 3,
   "metadata": {},
   "outputs": [
    {
     "name": "stdout",
     "output_type": "stream",
     "text": [
      "workclass 2795 0.057286329165812666\n",
      "occupation 10 0.0002174149364061311\n",
      "native_country 810 0.017614439491138414\n"
     ]
    },
    {
     "data": {
      "text/plain": [
       "(45175, 14)"
      ]
     },
     "execution_count": 3,
     "metadata": {},
     "output_type": "execute_result"
    }
   ],
   "source": [
    "for c in data.columns:\n",
    "    num_ques = data[c].isin([\"?\"]).sum()\n",
    "    if num_ques > 0:\n",
    "        print(c, num_ques, num_ques/data.shape[0])\n",
    "        data = data[data[c] != \"?\"]\n",
    "data.shape"
   ]
  },
  {
   "cell_type": "code",
   "execution_count": 4,
   "metadata": {},
   "outputs": [
    {
     "data": {
      "text/plain": [
       "label\n",
       "0    33973\n",
       "1    11202\n",
       "Name: count, dtype: int64"
      ]
     },
     "execution_count": 4,
     "metadata": {},
     "output_type": "execute_result"
    }
   ],
   "source": [
    "label = data.label\n",
    "data.drop(columns=[\"label\"], inplace=True)\n",
    "label = label.replace(\"<=50K\", 0)\n",
    "label = label.replace(\">50K\", 1)\n",
    "label.value_counts()"
   ]
  },
  {
   "cell_type": "code",
   "execution_count": 5,
   "metadata": {},
   "outputs": [
    {
     "data": {
      "text/html": [
       "<div>\n",
       "<style scoped>\n",
       "    .dataframe tbody tr th:only-of-type {\n",
       "        vertical-align: middle;\n",
       "    }\n",
       "\n",
       "    .dataframe tbody tr th {\n",
       "        vertical-align: top;\n",
       "    }\n",
       "\n",
       "    .dataframe thead th {\n",
       "        text-align: right;\n",
       "    }\n",
       "</style>\n",
       "<table border=\"1\" class=\"dataframe\">\n",
       "  <thead>\n",
       "    <tr style=\"text-align: right;\">\n",
       "      <th></th>\n",
       "      <th>age</th>\n",
       "      <th>workclass</th>\n",
       "      <th>fnlwgt</th>\n",
       "      <th>education_num</th>\n",
       "      <th>marital_status</th>\n",
       "      <th>occupation</th>\n",
       "      <th>relationship</th>\n",
       "      <th>race</th>\n",
       "      <th>sex</th>\n",
       "      <th>capital_gain</th>\n",
       "      <th>capital_loss</th>\n",
       "      <th>hours_per_week</th>\n",
       "      <th>native_country</th>\n",
       "    </tr>\n",
       "  </thead>\n",
       "  <tbody>\n",
       "    <tr>\n",
       "      <th>0</th>\n",
       "      <td>-1.025801</td>\n",
       "      <td>Private</td>\n",
       "      <td>226802</td>\n",
       "      <td>-1.222440</td>\n",
       "      <td>Never-married</td>\n",
       "      <td>Machine-op-inspct</td>\n",
       "      <td>Own-child</td>\n",
       "      <td>Black</td>\n",
       "      <td>Male</td>\n",
       "      <td>-0.146811</td>\n",
       "      <td>-0.218899</td>\n",
       "      <td>-0.078493</td>\n",
       "      <td>United-States</td>\n",
       "    </tr>\n",
       "    <tr>\n",
       "      <th>1</th>\n",
       "      <td>-0.042086</td>\n",
       "      <td>Private</td>\n",
       "      <td>89814</td>\n",
       "      <td>-0.438652</td>\n",
       "      <td>Married-civ-spouse</td>\n",
       "      <td>Farming-fishing</td>\n",
       "      <td>Husband</td>\n",
       "      <td>White</td>\n",
       "      <td>Male</td>\n",
       "      <td>-0.146811</td>\n",
       "      <td>-0.218899</td>\n",
       "      <td>0.754313</td>\n",
       "      <td>United-States</td>\n",
       "    </tr>\n",
       "    <tr>\n",
       "      <th>2</th>\n",
       "      <td>-0.798790</td>\n",
       "      <td>Local-gov</td>\n",
       "      <td>336951</td>\n",
       "      <td>0.737029</td>\n",
       "      <td>Married-civ-spouse</td>\n",
       "      <td>Protective-serv</td>\n",
       "      <td>Husband</td>\n",
       "      <td>White</td>\n",
       "      <td>Male</td>\n",
       "      <td>-0.146811</td>\n",
       "      <td>-0.218899</td>\n",
       "      <td>-0.078493</td>\n",
       "      <td>United-States</td>\n",
       "    </tr>\n",
       "    <tr>\n",
       "      <th>3</th>\n",
       "      <td>0.411937</td>\n",
       "      <td>Private</td>\n",
       "      <td>160323</td>\n",
       "      <td>-0.046758</td>\n",
       "      <td>Married-civ-spouse</td>\n",
       "      <td>Machine-op-inspct</td>\n",
       "      <td>Husband</td>\n",
       "      <td>Black</td>\n",
       "      <td>Male</td>\n",
       "      <td>0.876868</td>\n",
       "      <td>-0.218899</td>\n",
       "      <td>-0.078493</td>\n",
       "      <td>United-States</td>\n",
       "    </tr>\n",
       "    <tr>\n",
       "      <th>5</th>\n",
       "      <td>-0.344767</td>\n",
       "      <td>Private</td>\n",
       "      <td>198693</td>\n",
       "      <td>-1.614334</td>\n",
       "      <td>Never-married</td>\n",
       "      <td>Other-service</td>\n",
       "      <td>Not-in-family</td>\n",
       "      <td>White</td>\n",
       "      <td>Male</td>\n",
       "      <td>-0.146811</td>\n",
       "      <td>-0.218899</td>\n",
       "      <td>-0.911299</td>\n",
       "      <td>United-States</td>\n",
       "    </tr>\n",
       "    <tr>\n",
       "      <th>...</th>\n",
       "      <td>...</td>\n",
       "      <td>...</td>\n",
       "      <td>...</td>\n",
       "      <td>...</td>\n",
       "      <td>...</td>\n",
       "      <td>...</td>\n",
       "      <td>...</td>\n",
       "      <td>...</td>\n",
       "      <td>...</td>\n",
       "      <td>...</td>\n",
       "      <td>...</td>\n",
       "      <td>...</td>\n",
       "      <td>...</td>\n",
       "    </tr>\n",
       "    <tr>\n",
       "      <th>48837</th>\n",
       "      <td>-0.874460</td>\n",
       "      <td>Private</td>\n",
       "      <td>257302</td>\n",
       "      <td>0.737029</td>\n",
       "      <td>Married-civ-spouse</td>\n",
       "      <td>Tech-support</td>\n",
       "      <td>Wife</td>\n",
       "      <td>White</td>\n",
       "      <td>Female</td>\n",
       "      <td>-0.146811</td>\n",
       "      <td>-0.218899</td>\n",
       "      <td>-0.245054</td>\n",
       "      <td>United-States</td>\n",
       "    </tr>\n",
       "    <tr>\n",
       "      <th>48838</th>\n",
       "      <td>0.109255</td>\n",
       "      <td>Private</td>\n",
       "      <td>154374</td>\n",
       "      <td>-0.438652</td>\n",
       "      <td>Married-civ-spouse</td>\n",
       "      <td>Machine-op-inspct</td>\n",
       "      <td>Husband</td>\n",
       "      <td>White</td>\n",
       "      <td>Male</td>\n",
       "      <td>-0.146811</td>\n",
       "      <td>-0.218899</td>\n",
       "      <td>-0.078493</td>\n",
       "      <td>United-States</td>\n",
       "    </tr>\n",
       "    <tr>\n",
       "      <th>48839</th>\n",
       "      <td>1.471323</td>\n",
       "      <td>Private</td>\n",
       "      <td>151910</td>\n",
       "      <td>-0.438652</td>\n",
       "      <td>Widowed</td>\n",
       "      <td>Adm-clerical</td>\n",
       "      <td>Unmarried</td>\n",
       "      <td>White</td>\n",
       "      <td>Female</td>\n",
       "      <td>-0.146811</td>\n",
       "      <td>-0.218899</td>\n",
       "      <td>-0.078493</td>\n",
       "      <td>United-States</td>\n",
       "    </tr>\n",
       "    <tr>\n",
       "      <th>48840</th>\n",
       "      <td>-1.252812</td>\n",
       "      <td>Private</td>\n",
       "      <td>201490</td>\n",
       "      <td>-0.438652</td>\n",
       "      <td>Never-married</td>\n",
       "      <td>Adm-clerical</td>\n",
       "      <td>Own-child</td>\n",
       "      <td>White</td>\n",
       "      <td>Male</td>\n",
       "      <td>-0.146811</td>\n",
       "      <td>-0.218899</td>\n",
       "      <td>-1.744105</td>\n",
       "      <td>United-States</td>\n",
       "    </tr>\n",
       "    <tr>\n",
       "      <th>48841</th>\n",
       "      <td>1.017300</td>\n",
       "      <td>Self-emp-inc</td>\n",
       "      <td>287927</td>\n",
       "      <td>-0.438652</td>\n",
       "      <td>Married-civ-spouse</td>\n",
       "      <td>Exec-managerial</td>\n",
       "      <td>Wife</td>\n",
       "      <td>White</td>\n",
       "      <td>Female</td>\n",
       "      <td>1.853677</td>\n",
       "      <td>-0.218899</td>\n",
       "      <td>-0.078493</td>\n",
       "      <td>United-States</td>\n",
       "    </tr>\n",
       "  </tbody>\n",
       "</table>\n",
       "<p>45175 rows × 13 columns</p>\n",
       "</div>"
      ],
      "text/plain": [
       "            age     workclass  fnlwgt  education_num      marital_status   \n",
       "0     -1.025801       Private  226802      -1.222440       Never-married  \\\n",
       "1     -0.042086       Private   89814      -0.438652  Married-civ-spouse   \n",
       "2     -0.798790     Local-gov  336951       0.737029  Married-civ-spouse   \n",
       "3      0.411937       Private  160323      -0.046758  Married-civ-spouse   \n",
       "5     -0.344767       Private  198693      -1.614334       Never-married   \n",
       "...         ...           ...     ...            ...                 ...   \n",
       "48837 -0.874460       Private  257302       0.737029  Married-civ-spouse   \n",
       "48838  0.109255       Private  154374      -0.438652  Married-civ-spouse   \n",
       "48839  1.471323       Private  151910      -0.438652             Widowed   \n",
       "48840 -1.252812       Private  201490      -0.438652       Never-married   \n",
       "48841  1.017300  Self-emp-inc  287927      -0.438652  Married-civ-spouse   \n",
       "\n",
       "              occupation   relationship   race     sex  capital_gain   \n",
       "0      Machine-op-inspct      Own-child  Black    Male     -0.146811  \\\n",
       "1        Farming-fishing        Husband  White    Male     -0.146811   \n",
       "2        Protective-serv        Husband  White    Male     -0.146811   \n",
       "3      Machine-op-inspct        Husband  Black    Male      0.876868   \n",
       "5          Other-service  Not-in-family  White    Male     -0.146811   \n",
       "...                  ...            ...    ...     ...           ...   \n",
       "48837       Tech-support           Wife  White  Female     -0.146811   \n",
       "48838  Machine-op-inspct        Husband  White    Male     -0.146811   \n",
       "48839       Adm-clerical      Unmarried  White  Female     -0.146811   \n",
       "48840       Adm-clerical      Own-child  White    Male     -0.146811   \n",
       "48841    Exec-managerial           Wife  White  Female      1.853677   \n",
       "\n",
       "       capital_loss  hours_per_week native_country  \n",
       "0         -0.218899       -0.078493  United-States  \n",
       "1         -0.218899        0.754313  United-States  \n",
       "2         -0.218899       -0.078493  United-States  \n",
       "3         -0.218899       -0.078493  United-States  \n",
       "5         -0.218899       -0.911299  United-States  \n",
       "...             ...             ...            ...  \n",
       "48837     -0.218899       -0.245054  United-States  \n",
       "48838     -0.218899       -0.078493  United-States  \n",
       "48839     -0.218899       -0.078493  United-States  \n",
       "48840     -0.218899       -1.744105  United-States  \n",
       "48841     -0.218899       -0.078493  United-States  \n",
       "\n",
       "[45175 rows x 13 columns]"
      ]
     },
     "execution_count": 5,
     "metadata": {},
     "output_type": "execute_result"
    }
   ],
   "source": [
    "scaler = StandardScaler()\n",
    "numerical = [\"age\", \"education_num\", \"capital_gain\", \"capital_loss\", \"hours_per_week\"]\n",
    "data[numerical] = scaler.fit_transform(data[numerical])\n",
    "data"
   ]
  },
  {
   "cell_type": "code",
   "execution_count": 6,
   "metadata": {},
   "outputs": [
    {
     "data": {
      "text/plain": [
       "Index(['age', 'fnlwgt', 'education_num', 'capital_gain', 'capital_loss',\n",
       "       'hours_per_week', 'workclass_Federal-gov', 'workclass_Local-gov',\n",
       "       'workclass_Private', 'workclass_Self-emp-inc',\n",
       "       'workclass_Self-emp-not-inc', 'workclass_State-gov',\n",
       "       'workclass_Without-pay', 'marital_status_Divorced',\n",
       "       'marital_status_Married-AF-spouse', 'marital_status_Married-civ-spouse',\n",
       "       'marital_status_Married-spouse-absent', 'marital_status_Never-married',\n",
       "       'marital_status_Separated', 'marital_status_Widowed',\n",
       "       'occupation_Adm-clerical', 'occupation_Armed-Forces',\n",
       "       'occupation_Craft-repair', 'occupation_Exec-managerial',\n",
       "       'occupation_Farming-fishing', 'occupation_Handlers-cleaners',\n",
       "       'occupation_Machine-op-inspct', 'occupation_Other-service',\n",
       "       'occupation_Priv-house-serv', 'occupation_Prof-specialty',\n",
       "       'occupation_Protective-serv', 'occupation_Sales',\n",
       "       'occupation_Tech-support', 'occupation_Transport-moving',\n",
       "       'relationship_Husband', 'relationship_Not-in-family',\n",
       "       'relationship_Other-relative', 'relationship_Own-child',\n",
       "       'relationship_Unmarried', 'relationship_Wife',\n",
       "       'race_Amer-Indian-Eskimo', 'race_Asian-Pac-Islander', 'race_Black',\n",
       "       'race_Other', 'race_White', 'sex_Female', 'sex_Male',\n",
       "       'native_country_Cambodia', 'native_country_Canada',\n",
       "       'native_country_China', 'native_country_Columbia',\n",
       "       'native_country_Cuba', 'native_country_Dominican-Republic',\n",
       "       'native_country_Ecuador', 'native_country_El-Salvador',\n",
       "       'native_country_England', 'native_country_France',\n",
       "       'native_country_Germany', 'native_country_Greece',\n",
       "       'native_country_Guatemala', 'native_country_Haiti',\n",
       "       'native_country_Holand-Netherlands', 'native_country_Honduras',\n",
       "       'native_country_Hong', 'native_country_Hungary', 'native_country_India',\n",
       "       'native_country_Iran', 'native_country_Ireland', 'native_country_Italy',\n",
       "       'native_country_Jamaica', 'native_country_Japan', 'native_country_Laos',\n",
       "       'native_country_Mexico', 'native_country_Nicaragua',\n",
       "       'native_country_Outlying-US(Guam-USVI-etc)', 'native_country_Peru',\n",
       "       'native_country_Philippines', 'native_country_Poland',\n",
       "       'native_country_Portugal', 'native_country_Puerto-Rico',\n",
       "       'native_country_Scotland', 'native_country_South',\n",
       "       'native_country_Taiwan', 'native_country_Thailand',\n",
       "       'native_country_Trinadad&Tobago', 'native_country_United-States',\n",
       "       'native_country_Vietnam', 'native_country_Yugoslavia'],\n",
       "      dtype='object')"
      ]
     },
     "execution_count": 6,
     "metadata": {},
     "output_type": "execute_result"
    }
   ],
   "source": [
    "data = pd.get_dummies(data)\n",
    "data.columns"
   ]
  },
  {
   "cell_type": "code",
   "execution_count": 7,
   "metadata": {},
   "outputs": [],
   "source": [
    "xtrain1, xtest1, ytrain1, ytest1 = train_test_split(data, label, test_size=.5, random_state=1)\n",
    "xtrain2, xtest2, ytrain2, ytest2 = train_test_split(data, label, test_size=.4, random_state=1)\n",
    "xtrain3, xtest3, ytrain3, ytest3 = train_test_split(data, label, test_size=.2, random_state=1)"
   ]
  },
  {
   "attachments": {},
   "cell_type": "markdown",
   "metadata": {},
   "source": [
    "---"
   ]
  },
  {
   "cell_type": "code",
   "execution_count": 8,
   "metadata": {},
   "outputs": [
    {
     "name": "stdout",
     "output_type": "stream",
     "text": [
      "0.7543828581547725\n",
      "0.7549529607083564\n",
      "0.7534034311012728\n"
     ]
    }
   ],
   "source": [
    "# Makes predictions that ignore the input features.\n",
    "# This classifier serves as a simple baseline to compare against other classifiers.\n",
    "dummy = DummyClassifier(strategy=\"most_frequent\")\n",
    "dummy.fit(xtrain1, ytrain1)\n",
    "print(dummy.score(xtest1,ytest1))\n",
    "dummy.fit(xtrain2, ytrain2)\n",
    "print(dummy.score(xtest2,ytest2))\n",
    "dummy.fit(xtrain3, ytrain3)\n",
    "print(dummy.score(xtest3,ytest3))"
   ]
  },
  {
   "attachments": {},
   "cell_type": "markdown",
   "metadata": {},
   "source": [
    "---"
   ]
  },
  {
   "cell_type": "code",
   "execution_count": 9,
   "metadata": {},
   "outputs": [
    {
     "name": "stdout",
     "output_type": "stream",
     "text": [
      "              precision    recall  f1-score   support\n",
      "\n",
      "           0       0.88      0.87      0.87     17040\n",
      "           1       0.61      0.64      0.63      5548\n",
      "\n",
      "    accuracy                           0.81     22588\n",
      "   macro avg       0.75      0.76      0.75     22588\n",
      "weighted avg       0.82      0.81      0.81     22588\n",
      "\n",
      "[[14787  2253]\n",
      " [ 1984  3564]]\n",
      "0.9999114534909461\n",
      "0.8124225252346379\n"
     ]
    }
   ],
   "source": [
    "dt1 = DecisionTreeClassifier(random_state=1).fit(xtrain1, ytrain1)\n",
    "ypred1 = dt1.predict(xtest1)\n",
    "print(classification_report(ytest1,ypred1))\n",
    "print(confusion_matrix(ytest1, ypred1))\n",
    "print(dt1.score(xtrain1, ytrain1))\n",
    "print(accuracy_score(ytest1, ypred1))"
   ]
  },
  {
   "cell_type": "code",
   "execution_count": 10,
   "metadata": {},
   "outputs": [
    {
     "name": "stdout",
     "output_type": "stream",
     "text": [
      "{'max_depth': 6, 'min_samples_leaf': 4, 'min_samples_split': 2}\n",
      "              precision    recall  f1-score   support\n",
      "\n",
      "           0       0.86      0.96      0.91     17040\n",
      "           1       0.80      0.53      0.64      5548\n",
      "\n",
      "    accuracy                           0.85     22588\n",
      "   macro avg       0.83      0.74      0.77     22588\n",
      "weighted avg       0.85      0.85      0.84     22588\n",
      "\n",
      "[[16319   721]\n",
      " [ 2610  2938]]\n",
      "0.8524372426617081\n",
      "0.8525323180449796\n"
     ]
    }
   ],
   "source": [
    "dt1 = DecisionTreeClassifier(random_state = 1).fit(xtrain1, ytrain1)\n",
    "param = {\n",
    "    \"max_depth\" : [5,6,7,8],\n",
    "    \"min_samples_leaf\" : [3,4,5,6,7],\n",
    "    \"min_samples_split\" : [2,4,6,8]\n",
    "}\n",
    "grid = GridSearchCV(dt1, param).fit(xtrain1, ytrain1)\n",
    "best_params = grid.best_params_\n",
    "print(best_params)\n",
    "\n",
    "dt1 = DecisionTreeClassifier(random_state=1, **best_params).fit(xtrain1, ytrain1)\n",
    "ypred1 = dt1.predict(xtest1)\n",
    "print(classification_report(ytest1,ypred1))\n",
    "print(confusion_matrix(ytest1, ypred1))\n",
    "print(dt1.score(xtrain1, ytrain1))\n",
    "print(accuracy_score(ytest1, ypred1))"
   ]
  },
  {
   "cell_type": "code",
   "execution_count": 12,
   "metadata": {},
   "outputs": [
    {
     "name": "stdout",
     "output_type": "stream",
     "text": [
      "              precision    recall  f1-score   support\n",
      "\n",
      "           0       0.88      0.87      0.87     13642\n",
      "           1       0.61      0.63      0.62      4428\n",
      "\n",
      "    accuracy                           0.81     18070\n",
      "   macro avg       0.74      0.75      0.74     18070\n",
      "weighted avg       0.81      0.81      0.81     18070\n",
      "\n",
      "[[11826  1816]\n",
      " [ 1643  2785]]\n",
      "0.9998893193137798\n",
      "0.8085777531820697\n"
     ]
    }
   ],
   "source": [
    "dt2 = DecisionTreeClassifier(random_state=1).fit(xtrain2, ytrain2)\n",
    "ypred2 = dt2.predict(xtest2)\n",
    "print(classification_report(ytest2,ypred2))\n",
    "print(confusion_matrix(ytest2, ypred2))\n",
    "print(dt2.score(xtrain2, ytrain2))\n",
    "print(accuracy_score(ytest2, ypred2))"
   ]
  },
  {
   "cell_type": "code",
   "execution_count": 13,
   "metadata": {},
   "outputs": [
    {
     "name": "stdout",
     "output_type": "stream",
     "text": [
      "{'max_depth': 11, 'min_samples_leaf': 10, 'min_samples_split': 2}\n",
      "              precision    recall  f1-score   support\n",
      "\n",
      "           0       0.88      0.94      0.91     13642\n",
      "           1       0.76      0.60      0.67      4428\n",
      "\n",
      "    accuracy                           0.86     18070\n",
      "   macro avg       0.82      0.77      0.79     18070\n",
      "weighted avg       0.85      0.86      0.85     18070\n",
      "\n",
      "[[12820   822]\n",
      " [ 1792  2636]]\n",
      "0.8646375207526287\n",
      "0.8553403431101273\n"
     ]
    }
   ],
   "source": [
    "dt2 = DecisionTreeClassifier(random_state = 1).fit(xtrain2, ytrain2)\n",
    "param = {\n",
    "    \"max_depth\" : [7,8,9,10,11,12],\n",
    "    \"min_samples_leaf\" : [7,8,9,10,11,12],\n",
    "    \"min_samples_split\" : [2,4,6,8]\n",
    "}\n",
    "grid = GridSearchCV(dt2, param).fit(xtrain2, ytrain2)\n",
    "best_params = grid.best_params_\n",
    "print(best_params)\n",
    "\n",
    "dt2 = DecisionTreeClassifier(random_state=1, **best_params).fit(xtrain2, ytrain2)\n",
    "ypred2 = dt2.predict(xtest2)\n",
    "print(classification_report(ytest2,ypred2))\n",
    "print(confusion_matrix(ytest2, ypred2))\n",
    "print(dt2.score(xtrain2, ytrain2))\n",
    "print(accuracy_score(ytest2, ypred2))"
   ]
  },
  {
   "cell_type": "code",
   "execution_count": 14,
   "metadata": {},
   "outputs": [
    {
     "name": "stdout",
     "output_type": "stream",
     "text": [
      "              precision    recall  f1-score   support\n",
      "\n",
      "           0       0.87      0.87      0.87      6807\n",
      "           1       0.61      0.62      0.62      2228\n",
      "\n",
      "    accuracy                           0.81      9035\n",
      "   macro avg       0.74      0.75      0.74      9035\n",
      "weighted avg       0.81      0.81      0.81      9035\n",
      "\n",
      "[[5944  863]\n",
      " [ 852 1376]]\n",
      "0.9998893193137798\n",
      "0.8101826231322634\n"
     ]
    }
   ],
   "source": [
    "dt3 = DecisionTreeClassifier(random_state=1).fit(xtrain3, ytrain3)\n",
    "ypred3 = dt3.predict(xtest3)\n",
    "print(classification_report(ytest3,ypred3))\n",
    "print(confusion_matrix(ytest3, ypred3))\n",
    "print(dt3.score(xtrain3, ytrain3))\n",
    "print(accuracy_score(ytest3, ypred3))"
   ]
  },
  {
   "cell_type": "code",
   "execution_count": 15,
   "metadata": {},
   "outputs": [
    {
     "name": "stdout",
     "output_type": "stream",
     "text": [
      "{'max_depth': 10, 'min_samples_leaf': 3, 'min_samples_split': 8}\n",
      "              precision    recall  f1-score   support\n",
      "\n",
      "           0       0.86      0.96      0.91      6807\n",
      "           1       0.81      0.53      0.64      2228\n",
      "\n",
      "    accuracy                           0.85      9035\n",
      "   macro avg       0.84      0.75      0.78      9035\n",
      "weighted avg       0.85      0.85      0.84      9035\n",
      "\n",
      "[[6525  282]\n",
      " [1038 1190]]\n",
      "0.8644714997232983\n",
      "0.853901494189264\n"
     ]
    }
   ],
   "source": [
    "dt3 = DecisionTreeClassifier(random_state = 1).fit(xtrain3, ytrain3)\n",
    "param = {\n",
    "    \"max_depth\" : [7,8,9,10,11,12],\n",
    "    \"min_samples_leaf\" : [1,2,3,4,5,6,7,8,9,10],\n",
    "    \"min_samples_split\" : [2,4,6,8,10]\n",
    "}\n",
    "grid = GridSearchCV(dt3, param).fit(xtrain3, ytrain3)\n",
    "best_params = grid.best_params_\n",
    "print(best_params)\n",
    "\n",
    "dt3 = DecisionTreeClassifier(random_state=1, **best_params).fit(xtrain3, ytrain3)\n",
    "ypred3 = dt1.predict(xtest3)\n",
    "print(classification_report(ytest3,ypred3))\n",
    "print(confusion_matrix(ytest3, ypred3))\n",
    "print(dt3.score(xtrain3, ytrain3))\n",
    "print(accuracy_score(ytest3, ypred3))"
   ]
  },
  {
   "attachments": {},
   "cell_type": "markdown",
   "metadata": {},
   "source": [
    "---"
   ]
  },
  {
   "cell_type": "code",
   "execution_count": 16,
   "metadata": {},
   "outputs": [
    {
     "name": "stdout",
     "output_type": "stream",
     "text": [
      "              precision    recall  f1-score   support\n",
      "\n",
      "           0       0.88      0.92      0.90     17040\n",
      "           1       0.73      0.63      0.68      5548\n",
      "\n",
      "    accuracy                           0.85     22588\n",
      "   macro avg       0.81      0.78      0.79     22588\n",
      "weighted avg       0.85      0.85      0.85     22588\n",
      "\n",
      "[[15733  1307]\n",
      " [ 2052  3496]]\n",
      "0.9994244476911498\n",
      "0.8512927217991854\n"
     ]
    }
   ],
   "source": [
    "forest1 = RandomForestClassifier(n_estimators=50, random_state=1).fit(xtrain1,ytrain1)\n",
    "ypred1_forest = forest1.predict(xtest1)\n",
    "print(classification_report(ytest1,ypred1_forest))\n",
    "print(confusion_matrix(ytest1, ypred1_forest))\n",
    "print(forest1.score(xtrain1, ytrain1))\n",
    "print(accuracy_score(ytest1, ypred1_forest))"
   ]
  },
  {
   "cell_type": "code",
   "execution_count": 17,
   "metadata": {},
   "outputs": [
    {
     "name": "stdout",
     "output_type": "stream",
     "text": [
      "{'max_depth': 50, 'min_samples_leaf': 4, 'min_samples_split': 10}\n",
      "              precision    recall  f1-score   support\n",
      "\n",
      "           0       0.88      0.94      0.91     17040\n",
      "           1       0.77      0.62      0.68      5548\n",
      "\n",
      "    accuracy                           0.86     22588\n",
      "   macro avg       0.83      0.78      0.80     22588\n",
      "weighted avg       0.85      0.86      0.85     22588\n",
      "\n",
      "[[16008  1032]\n",
      " [ 2129  3419]]\n",
      "0.876964625669633\n",
      "0.8600584381087303\n"
     ]
    }
   ],
   "source": [
    "forest1 = RandomForestClassifier(n_estimators=50, random_state=1).fit(xtrain1, ytrain1)\n",
    "param = {\n",
    "    'max_depth': [40, 50, 60, 70],\n",
    "    'min_samples_leaf': [3, 4, 5],\n",
    "    'min_samples_split': [8, 10, 12]\n",
    "}\n",
    "grid = GridSearchCV(forest1, param).fit(xtrain1, ytrain1)\n",
    "best_params = grid.best_params_\n",
    "print(best_params)\n",
    "\n",
    "forest1 = RandomForestClassifier(n_estimators=50, random_state=1, **best_params).fit(xtrain1, ytrain1)\n",
    "ypred1_forest = forest1.predict(xtest1)\n",
    "print(classification_report(ytest1,ypred1_forest))\n",
    "print(confusion_matrix(ytest1, ypred1_forest))\n",
    "print(forest1.score(xtrain1, ytrain1))\n",
    "print(accuracy_score(ytest1, ypred1_forest))"
   ]
  },
  {
   "cell_type": "code",
   "execution_count": 18,
   "metadata": {},
   "outputs": [
    {
     "name": "stdout",
     "output_type": "stream",
     "text": [
      "              precision    recall  f1-score   support\n",
      "\n",
      "           0       0.88      0.92      0.90     13642\n",
      "           1       0.72      0.62      0.67      4428\n",
      "\n",
      "    accuracy                           0.85     18070\n",
      "   macro avg       0.80      0.77      0.78     18070\n",
      "weighted avg       0.84      0.85      0.84     18070\n",
      "\n",
      "[[12595  1047]\n",
      " [ 1684  2744]]\n",
      "0.9995941708171924\n",
      "0.8488655229662424\n"
     ]
    }
   ],
   "source": [
    "forest2 = RandomForestClassifier(n_estimators=50, random_state=1).fit(xtrain2,ytrain2)\n",
    "ypred2_forest = forest2.predict(xtest2)\n",
    "print(classification_report(ytest2,ypred2_forest))\n",
    "print(confusion_matrix(ytest2, ypred2_forest))\n",
    "print(forest2.score(xtrain2, ytrain2))\n",
    "print(accuracy_score(ytest2, ypred2_forest))"
   ]
  },
  {
   "cell_type": "code",
   "execution_count": 19,
   "metadata": {},
   "outputs": [
    {
     "name": "stdout",
     "output_type": "stream",
     "text": [
      "{'max_depth': 50, 'min_samples_leaf': 3, 'min_samples_split': 10}\n",
      "              precision    recall  f1-score   support\n",
      "\n",
      "           0       0.88      0.94      0.91     13642\n",
      "           1       0.77      0.62      0.68      4428\n",
      "\n",
      "    accuracy                           0.86     18070\n",
      "   macro avg       0.82      0.78      0.80     18070\n",
      "weighted avg       0.85      0.86      0.86     18070\n",
      "\n",
      "[[12807   835]\n",
      " [ 1688  2740]]\n",
      "0.874635676074525\n",
      "0.8603763143331489\n"
     ]
    }
   ],
   "source": [
    "forest2 = RandomForestClassifier(n_estimators=50, random_state=1).fit(xtrain2, ytrain2)\n",
    "param = {\n",
    "    'max_depth': [40, 50, 60, 70],\n",
    "    'min_samples_leaf': [3, 4, 5],\n",
    "    'min_samples_split': [8, 10, 12]\n",
    "}\n",
    "grid = GridSearchCV(forest1, param).fit(xtrain2, ytrain2)\n",
    "best_params = grid.best_params_\n",
    "print(best_params)\n",
    "\n",
    "forest2 = RandomForestClassifier(n_estimators=50, random_state=1, **best_params).fit(xtrain2, ytrain2)\n",
    "ypred2_forest = forest2.predict(xtest2)\n",
    "print(classification_report(ytest2,ypred2_forest))\n",
    "print(confusion_matrix(ytest2, ypred2_forest))\n",
    "print(forest1.score(xtrain2, ytrain2))\n",
    "print(accuracy_score(ytest2, ypred2_forest))"
   ]
  },
  {
   "cell_type": "code",
   "execution_count": 20,
   "metadata": {},
   "outputs": [
    {
     "name": "stdout",
     "output_type": "stream",
     "text": [
      "              precision    recall  f1-score   support\n",
      "\n",
      "           0       0.88      0.93      0.90      6807\n",
      "           1       0.74      0.62      0.68      2228\n",
      "\n",
      "    accuracy                           0.85      9035\n",
      "   macro avg       0.81      0.78      0.79      9035\n",
      "weighted avg       0.85      0.85      0.85      9035\n",
      "\n",
      "[[6317  490]\n",
      " [ 838 1390]]\n",
      "0.870475926950747\n",
      "0.853016048699502\n"
     ]
    }
   ],
   "source": [
    "forest3 = RandomForestClassifier(n_estimators=50, random_state=1).fit(xtrain3,ytrain3)\n",
    "ypred3_forest = forest3.predict(xtest3)\n",
    "print(classification_report(ytest3,ypred3_forest))\n",
    "print(confusion_matrix(ytest3, ypred3_forest))\n",
    "print(forest1.score(xtrain3, ytrain3))\n",
    "print(accuracy_score(ytest3, ypred3_forest))"
   ]
  },
  {
   "cell_type": "code",
   "execution_count": 21,
   "metadata": {},
   "outputs": [
    {
     "name": "stdout",
     "output_type": "stream",
     "text": [
      "{'max_depth': 50, 'min_samples_leaf': 3, 'min_samples_split': 12}\n",
      "              precision    recall  f1-score   support\n",
      "\n",
      "           0       0.88      0.95      0.91      6807\n",
      "           1       0.78      0.61      0.69      2228\n",
      "\n",
      "    accuracy                           0.86      9035\n",
      "   macro avg       0.83      0.78      0.80      9035\n",
      "weighted avg       0.86      0.86      0.86      9035\n",
      "\n",
      "[[6433  374]\n",
      " [ 868 1360]]\n",
      "0.8794133923630326\n",
      "0.8625345877144438\n"
     ]
    }
   ],
   "source": [
    "forest3 = RandomForestClassifier(n_estimators=50, random_state=1).fit(xtrain3, ytrain3)\n",
    "param = {\n",
    "    'max_depth': [40, 50, 60, 70],\n",
    "    'min_samples_leaf': [3, 4, 5],\n",
    "    'min_samples_split': [8, 10, 12]\n",
    "}\n",
    "grid = GridSearchCV(forest3, param).fit(xtrain3, ytrain3)\n",
    "best_params = grid.best_params_\n",
    "print(best_params)\n",
    "\n",
    "forest3 = RandomForestClassifier(n_estimators=50, random_state=1, **best_params).fit(xtrain3, ytrain3)\n",
    "ypred3_forest = forest3.predict(xtest3)\n",
    "print(classification_report(ytest3,ypred3_forest))\n",
    "print(confusion_matrix(ytest3, ypred3_forest))\n",
    "print(forest3.score(xtrain3, ytrain3))\n",
    "print(accuracy_score(ytest3, ypred3_forest))"
   ]
  },
  {
   "cell_type": "code",
   "execution_count": 81,
   "metadata": {},
   "outputs": [
    {
     "data": {
      "image/png": "[encoded data removed]",
      "text/plain": [
       "<Figure size 1080x432 with 2 Axes>"
      ]
     },
     "metadata": {
      "needs_background": "light"
     },
     "output_type": "display_data"
    }
   ],
   "source": [
    "result = pd.DataFrame(grid.cv_results_)\n",
    "c = [\"param_max_depth\", \"param_min_samples_leaf\", \"param_min_samples_split\", \"mean_test_score\"]\n",
    "scores = result[c]\n",
    "\n",
    "param_max_depth = scores.param_max_depth.unique()\n",
    "param_min_samples_leaf = scores.param_min_samples_leaf.unique()\n",
    "param_min_samples_split = scores.param_min_samples_split.unique()\n",
    "mean_test_score = list(scores.mean_test_score)\n",
    "\n",
    "dtfm_scores = pd.DataFrame(mean_test_score,\n",
    "                         columns=['mean_test_score'],\n",
    "                         index=pd.MultiIndex.from_product([param_max_depth, param_min_samples_leaf, param_min_samples_split],\n",
    "                                                         names=['Max Depth', 'Min Samples Leaf', 'Min Samples Split']))\n",
    "\n",
    "dtfm_scores_pivot = dtfm_scores.pivot_table(index='Max Depth',\n",
    "                                        columns=['Min Samples Leaf', 'Min Samples Split'],\n",
    "                                        values='mean_test_score')\n",
    "\n",
    "# Create the heatmap\n",
    "plt.figure(figsize=(15, 6))\n",
    "sns.heatmap(dtfm_scores_pivot, annot=True, fmt=\".3%\", cmap=\"flare\", linewidths=2)\n",
    "plt.xlabel('Min Samples Leaf and Split')\n",
    "plt.ylabel('Max Depth')\n",
    "plt.title('GridSearch Results')\n",
    "plt.show()"
   ]
  },
  {
   "cell_type": "code",
   "execution_count": 118,
   "metadata": {},
   "outputs": [
    {
     "data": {
      "text/plain": [
       "Text(0.5, 1.0, 'Accuracy Scores')"
      ]
     },
     "execution_count": 118,
     "metadata": {},
     "output_type": "execute_result"
    },
    {
     "data": {
      "image/png": "[encoded data removed]",
      "text/plain": [
       "<Figure size 576x432 with 2 Axes>"
      ]
     },
     "metadata": {
      "needs_background": "light"
     },
     "output_type": "display_data"
    }
   ],
   "source": [
    "scores = [\n",
    "    accuracy_score(ytest1, ypred1),\n",
    "    accuracy_score(ytest2, ypred2),\n",
    "    accuracy_score(ytest3, ypred3),\n",
    "    accuracy_score(ytest1, ypred1_forest),\n",
    "    accuracy_score(ytest2, ypred2_forest),\n",
    "    accuracy_score(ytest3, ypred3_forest)\n",
    "]\n",
    "scores = np.array(scores).reshape((2, 3))\n",
    "\n",
    "plt.figure(figsize=(8, 6))\n",
    "sns.heatmap(scores, annot=True, cmap='YlGnBu', fmt='.3%')\n",
    "plt.xticks(np.arange(3) + 0.5, ['1', '2', '3'])\n",
    "plt.yticks(np.arange(2) + 0.5, ['Decision Tree', 'Random Forest'])\n",
    "plt.xlabel('Numbered Label')\n",
    "plt.ylabel('Algorithm')\n",
    "plt.title('Accuracy Scores')"
   ]
  },
  {
   "cell_type": "code",
   "execution_count": null,
   "metadata": {},
   "outputs": [],
   "source": []
  }
 ],
 "metadata": {
  "kernelspec": {
   "display_name": "Python 3",
   "language": "python",
   "name": "python3"
  },
  "language_info": {
   "codemirror_mode": {
    "name": "ipython",
    "version": 3
   },
   "file_extension": ".py",
   "mimetype": "text/x-python",
   "name": "python",
   "nbconvert_exporter": "python",
   "pygments_lexer": "ipython3",
   "version": "3.9.0"
  },
  "orig_nbformat": 4
 },
 "nbformat": 4,
 "nbformat_minor": 2
}
